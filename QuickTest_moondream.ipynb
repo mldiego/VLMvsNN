{
 "cells": [
  {
   "cell_type": "markdown",
   "id": "7352ff85-f71d-4a2a-8bec-eb669ebad16b",
   "metadata": {},
   "source": [
    "## Do open source VLMs reason with math?"
   ]
  },
  {
   "cell_type": "code",
   "execution_count": 1,
   "id": "a45b460b-b443-4d6a-92eb-3be26f6b33f7",
   "metadata": {},
   "outputs": [],
   "source": [
    "import ollama\n",
    "import time\n",
    "model = \"moondream\""
   ]
  },
  {
   "cell_type": "markdown",
   "id": "034243a0-2bd9-49bd-91ba-ca9102617850",
   "metadata": {},
   "source": [
    "#### Image 1:     12 + 335 = 347"
   ]
  },
  {
   "cell_type": "code",
   "execution_count": 2,
   "id": "300469e6-dbee-45c6-b30d-c745ceeffbe5",
   "metadata": {},
   "outputs": [
    {
     "name": "stdout",
     "output_type": "stream",
     "text": [
      "17.196248769760132\n",
      "\n",
      "The image shows a white background with the numbers 12 and 35 written on it. The numbers are in black ink, making them stand out against the white backdrop.\n"
     ]
    }
   ],
   "source": [
    "t1 = time.time()\n",
    "res = ollama.chat(\n",
    "\tmodel=model,\n",
    "\tmessages=[\n",
    "\t\t{\n",
    "\t\t\t'role': 'user',\n",
    "\t\t\t'content': 'Solve the mathematical operation in the image:',\n",
    "\t\t\t'images': ['./op1.png']\n",
    "\t\t}\n",
    "\t]\n",
    ")\n",
    "t2 = time.time()\n",
    "print(t2-t1)\n",
    "print(res['message']['content'])"
   ]
  },
  {
   "cell_type": "markdown",
   "id": "a4f383cc-9656-4053-8c52-a3cca217c620",
   "metadata": {},
   "source": [
    "#### Image 2:       3+14-25=-8 "
   ]
  },
  {
   "cell_type": "code",
   "execution_count": 3,
   "id": "20f28e33-db4f-451d-b348-900e9746c8bf",
   "metadata": {},
   "outputs": [
    {
     "name": "stdout",
     "output_type": "stream",
     "text": [
      "17.524311065673828\n",
      "\n",
      "The image shows a drawing of the number 3 on top of a white background. Below this, there is a black and white line that reads \"3 + 14 - 25\". The numbers are written in a simple manner with no additional symbols or operations.\n"
     ]
    }
   ],
   "source": [
    "t1 = time.time()\n",
    "res = ollama.chat(\n",
    "\tmodel=model,\n",
    "\tmessages=[\n",
    "\t\t{\n",
    "\t\t\t'role': 'user',\n",
    "\t\t\t'content': 'Solve the mathematical operation in the image:',\n",
    "\t\t\t'images': ['./op2.png']\n",
    "\t\t}\n",
    "\t]\n",
    ")\n",
    "t2 = time.time()\n",
    "print(t2-t1)\n",
    "\n",
    "print(res['message']['content'])"
   ]
  },
  {
   "cell_type": "markdown",
   "id": "ce3ef49c-513b-4036-b67f-e2cd4ea852c7",
   "metadata": {},
   "source": [
    "#### Image 3: 55 * 14 = 770"
   ]
  },
  {
   "cell_type": "code",
   "execution_count": 4,
   "id": "379c1844-c64d-4fe1-81fc-781712882a35",
   "metadata": {},
   "outputs": [
    {
     "name": "stdout",
     "output_type": "stream",
     "text": [
      "15.761484622955322\n",
      "\n"
     ]
    }
   ],
   "source": [
    "t1 = time.time()\n",
    "res = ollama.chat(\n",
    "\tmodel=model,\n",
    "\tmessages=[\n",
    "\t\t{\n",
    "\t\t\t'role': 'user',\n",
    "\t\t\t'content': 'Solve the mathematical operation in the image:',\n",
    "\t\t\t'images': ['./op3.png']\n",
    "\t\t}\n",
    "\t]\n",
    ")\n",
    "t2 = time.time()\n",
    "print(t2-t1)\n",
    "\n",
    "print(res['message']['content'])"
   ]
  },
  {
   "cell_type": "markdown",
   "id": "46be8ce8-760d-487a-a80a-e3d1a7b363f7",
   "metadata": {},
   "source": [
    "#### Image 1: Refine prompt"
   ]
  },
  {
   "cell_type": "code",
   "execution_count": 5,
   "id": "69eddbf7-4093-47be-a633-8c3ce2326441",
   "metadata": {},
   "outputs": [
    {
     "name": "stdout",
     "output_type": "stream",
     "text": [
      "19.002078533172607\n",
      "\n"
     ]
    }
   ],
   "source": [
    "t1 = time.time()\n",
    "res = ollama.chat(\n",
    "\tmodel=model,\n",
    "\tmessages=[\n",
    "\t\t{\n",
    "\t\t\t'role': 'user',\n",
    "\t\t\t'content': 'This image contains numbers and one mathematical operation symbol. Please, describe the equation in the image and every step along the way to solve it:',\n",
    "\t\t\t'images': ['./op1.png']\n",
    "\t\t}\n",
    "\t]\n",
    ")\n",
    "t2 = time.time()\n",
    "print(t2-t1)\n",
    "print(res['message']['content'])"
   ]
  },
  {
   "cell_type": "markdown",
   "id": "68923d27-a358-4449-8b36-ecb593a8c729",
   "metadata": {},
   "source": [
    "#### Image 2: Refine prompt"
   ]
  },
  {
   "cell_type": "code",
   "execution_count": 6,
   "id": "06ac2fb3-5c2f-459d-be0f-092ec6516a13",
   "metadata": {},
   "outputs": [
    {
     "name": "stdout",
     "output_type": "stream",
     "text": [
      "18.338472366333008\n",
      "\n",
      "The image shows a simple equation written in black ink on a white background. The numbers 3, 14, and 25 are arranged vertically with the number 15 between them. The operation symbol \"+\" is placed above the numbers, indicating that they should be added together.\n"
     ]
    }
   ],
   "source": [
    "t1 = time.time()\n",
    "res = ollama.chat(\n",
    "\tmodel=model,\n",
    "\tmessages=[\n",
    "\t\t{\n",
    "\t\t\t'role': 'user',\n",
    "\t\t\t'content': 'This image contains numbers and one mathematical operation symbol. Please, describe the equation in the image and every step along the way to solve it:',\n",
    "\t\t\t'images': ['./op2.png']\n",
    "\t\t}\n",
    "\t]\n",
    ")\n",
    "t2 = time.time()\n",
    "print(t2-t1)\n",
    "print(res['message']['content'])"
   ]
  },
  {
   "cell_type": "markdown",
   "id": "91f4449b-1b82-427d-89c4-94c69ec5e536",
   "metadata": {},
   "source": [
    "#### Image 3: Refine prompt"
   ]
  },
  {
   "cell_type": "code",
   "execution_count": 7,
   "id": "3388492e-2d74-47e8-bf5d-f0453b067fda",
   "metadata": {},
   "outputs": [
    {
     "name": "stdout",
     "output_type": "stream",
     "text": [
      "21.86029624938965\n",
      "\n"
     ]
    }
   ],
   "source": [
    "t1 = time.time()\n",
    "res = ollama.chat(\n",
    "\tmodel=model,\n",
    "\tmessages=[\n",
    "\t\t{\n",
    "\t\t\t'role': 'user',\n",
    "\t\t\t'content': 'This image contains numbers and one mathematical operation symbol. Please, describe the equation in the image and every step along the way to solve it:',\n",
    "\t\t\t'images': ['./op3.png']\n",
    "\t\t}\n",
    "\t]\n",
    ")\n",
    "t2 = time.time()\n",
    "print(t2-t1)\n",
    "print(res['message']['content'])"
   ]
  },
  {
   "cell_type": "markdown",
   "id": "e9b6a095-18f7-4d10-84a3-6aa37c0c14e6",
   "metadata": {},
   "source": [
    "#### Last try: ask for just the answer"
   ]
  },
  {
   "cell_type": "code",
   "execution_count": 8,
   "id": "37616707-eec8-49d5-a0d1-5563295b7328",
   "metadata": {},
   "outputs": [
    {
     "name": "stdout",
     "output_type": "stream",
     "text": [
      "23.811299562454224\n",
      "\n",
      "The image shows a white background with the numbers \"12\" and \"13\" written on it. The numbers are in black ink, making them stand out against the white backdrop.\n"
     ]
    }
   ],
   "source": [
    "t1 = time.time()\n",
    "res = ollama.chat(\n",
    "\tmodel=model,\n",
    "\tmessages=[\n",
    "\t\t{\n",
    "\t\t\t'role': 'user',\n",
    "\t\t\t'content': 'Solve the mathematical operation in the image. Provide only the final result',\n",
    "\t\t\t'images': ['./op1.png']\n",
    "\t\t}\n",
    "\t]\n",
    ")\n",
    "t2 = time.time()\n",
    "print(t2-t1)\n",
    "print(res['message']['content'])"
   ]
  },
  {
   "cell_type": "code",
   "execution_count": 9,
   "id": "3a688181-fbf5-4009-aaff-7ed576c036eb",
   "metadata": {},
   "outputs": [
    {
     "name": "stdout",
     "output_type": "stream",
     "text": [
      "20.13766646385193\n",
      "\n",
      "The image shows a drawing of the number 3 on top of a white background. Below this, there is a black and white line that reads \"3 + 14 - 25\". The numbers are written in a simple, easy-to-read font.\n"
     ]
    }
   ],
   "source": [
    "t1 = time.time()\n",
    "res = ollama.chat(\n",
    "\tmodel=model,\n",
    "\tmessages=[\n",
    "\t\t{\n",
    "\t\t\t'role': 'user',\n",
    "\t\t\t'content': 'Solve the mathematical operation in the image. Provide only the final result',\n",
    "\t\t\t'images': ['./op2.png']\n",
    "\t\t}\n",
    "\t]\n",
    ")\n",
    "t2 = time.time()\n",
    "print(t2-t1)\n",
    "print(res['message']['content'])"
   ]
  },
  {
   "cell_type": "code",
   "execution_count": 10,
   "id": "4f01ebf7-f07a-489a-a141-301e4d2fb419",
   "metadata": {},
   "outputs": [
    {
     "name": "stdout",
     "output_type": "stream",
     "text": [
      "20.426660299301147\n",
      "\n",
      "The image shows a drawing of numbers written in black ink. The numbers are 55 and 14, with the number 14 being larger than 55. This indicates that 14 is greater than 55.\n"
     ]
    }
   ],
   "source": [
    "t1 = time.time()\n",
    "res = ollama.chat(\n",
    "\tmodel=model,\n",
    "\tmessages=[\n",
    "\t\t{\n",
    "\t\t\t'role': 'user',\n",
    "\t\t\t'content': 'Solve the mathematical operation in the image. Provide only the final result',\n",
    "\t\t\t'images': ['./op3.png']\n",
    "\t\t}\n",
    "\t]\n",
    ")\n",
    "t2 = time.time()\n",
    "print(t2-t1)\n",
    "print(res['message']['content'])"
   ]
  },
  {
   "cell_type": "code",
   "execution_count": null,
   "id": "0b99ddfc-4e49-45ab-abde-427693355b08",
   "metadata": {},
   "outputs": [],
   "source": []
  }
 ],
 "metadata": {
  "kernelspec": {
   "display_name": "Python 3 (ipykernel)",
   "language": "python",
   "name": "python3"
  },
  "language_info": {
   "codemirror_mode": {
    "name": "ipython",
    "version": 3
   },
   "file_extension": ".py",
   "mimetype": "text/x-python",
   "name": "python",
   "nbconvert_exporter": "python",
   "pygments_lexer": "ipython3",
   "version": "3.10.4"
  }
 },
 "nbformat": 4,
 "nbformat_minor": 5
}
