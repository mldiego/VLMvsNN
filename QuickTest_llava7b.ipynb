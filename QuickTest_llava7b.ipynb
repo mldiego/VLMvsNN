{
 "cells": [
  {
   "cell_type": "markdown",
   "id": "7352ff85-f71d-4a2a-8bec-eb669ebad16b",
   "metadata": {},
   "source": [
    "## Do open source VLMs reason with math?"
   ]
  },
  {
   "cell_type": "code",
   "execution_count": 1,
   "id": "a45b460b-b443-4d6a-92eb-3be26f6b33f7",
   "metadata": {},
   "outputs": [],
   "source": [
    "import ollama\n",
    "import time\n",
    "model = \"llava:7b\""
   ]
  },
  {
   "cell_type": "markdown",
   "id": "034243a0-2bd9-49bd-91ba-ca9102617850",
   "metadata": {},
   "source": [
    "#### Image 1:     12 + 335 = 347"
   ]
  },
  {
   "cell_type": "code",
   "execution_count": 2,
   "id": "300469e6-dbee-45c6-b30d-c745ceeffbe5",
   "metadata": {},
   "outputs": [
    {
     "name": "stdout",
     "output_type": "stream",
     "text": [
      "76.57452964782715\n",
      " The mathematical operation in the image is \"12 + 356\".\n",
      "\n",
      "To solve this, we simply add the two numbers together:\n",
      "\n",
      "12 (the number to the left of the plus sign)\n",
      "+ 356 (the number to the right of the plus sign)\n",
      "= 368\n",
      "\n",
      "So the answer to the addition is 368. \n"
     ]
    }
   ],
   "source": [
    "t1 = time.time()\n",
    "res = ollama.chat(\n",
    "\tmodel=\"llava:7b\",\n",
    "\tmessages=[\n",
    "\t\t{\n",
    "\t\t\t'role': 'user',\n",
    "\t\t\t'content': 'Solve the mathematical operation in the image:',\n",
    "\t\t\t'images': ['./op1.png']\n",
    "\t\t}\n",
    "\t]\n",
    ")\n",
    "t2 = time.time()\n",
    "print(t2-t1)\n",
    "print(res['message']['content'])"
   ]
  },
  {
   "cell_type": "markdown",
   "id": "a4f383cc-9656-4053-8c52-a3cca217c620",
   "metadata": {},
   "source": [
    "#### Image 2:       3+14-25=-8 "
   ]
  },
  {
   "cell_type": "code",
   "execution_count": 3,
   "id": "20f28e33-db4f-451d-b348-900e9746c8bf",
   "metadata": {},
   "outputs": [
    {
     "name": "stdout",
     "output_type": "stream",
     "text": [
      "84.67537140846252\n",
      " The image shows a mathematical expression:\n",
      "\n",
      "3 + 4 + 11 = ?\n",
      "\n",
      "To solve this, we need to add up the numbers in the order they are presented. So, let's add them up step by step:\n",
      "\n",
      "First, add 3 and 4:\n",
      "\n",
      "3 + 4 = 7\n",
      "\n",
      "Then, add the result to 11:\n",
      "\n",
      "7 + 11 = 18\n",
      "\n",
      "Therefore, the answer is 18. \n"
     ]
    }
   ],
   "source": [
    "t1 = time.time()\n",
    "res = ollama.chat(\n",
    "\tmodel=\"llava:7b\",\n",
    "\tmessages=[\n",
    "\t\t{\n",
    "\t\t\t'role': 'user',\n",
    "\t\t\t'content': 'Solve the mathematical operation in the image:',\n",
    "\t\t\t'images': ['./op2.png']\n",
    "\t\t}\n",
    "\t]\n",
    ")\n",
    "t2 = time.time()\n",
    "print(t2-t1)\n",
    "print(res['message']['content'])"
   ]
  },
  {
   "cell_type": "markdown",
   "id": "ce3ef49c-513b-4036-b67f-e2cd4ea852c7",
   "metadata": {},
   "source": [
    "#### Image 3: 55 * 14 = 770"
   ]
  },
  {
   "cell_type": "code",
   "execution_count": 4,
   "id": "379c1844-c64d-4fe1-81fc-781712882a35",
   "metadata": {},
   "outputs": [
    {
     "name": "stdout",
     "output_type": "stream",
     "text": [
      "80.95212364196777\n",
      " The mathematical operation in the image is:\n",
      "\n",
      "565 + 14 = ?\n",
      "\n",
      "To solve this problem, you simply add the numbers together:\n",
      "\n",
      "565 + 14 = 5769\n",
      "\n",
      "So, the answer to 565 + 14 is 5769. \n"
     ]
    }
   ],
   "source": [
    "t1 = time.time()\n",
    "res = ollama.chat(\n",
    "\tmodel=\"llava:7b\",\n",
    "\tmessages=[\n",
    "\t\t{\n",
    "\t\t\t'role': 'user',\n",
    "\t\t\t'content': 'Solve the mathematical operation in the image:',\n",
    "\t\t\t'images': ['./op3.png']\n",
    "\t\t}\n",
    "\t]\n",
    ")\n",
    "t2 = time.time()\n",
    "print(t2-t1)\n",
    "print(res['message']['content'])"
   ]
  },
  {
   "cell_type": "markdown",
   "id": "46be8ce8-760d-487a-a80a-e3d1a7b363f7",
   "metadata": {},
   "source": [
    "#### Image 1: Refine prompt"
   ]
  },
  {
   "cell_type": "code",
   "execution_count": 5,
   "id": "69eddbf7-4093-47be-a633-8c3ce2326441",
   "metadata": {},
   "outputs": [
    {
     "name": "stdout",
     "output_type": "stream",
     "text": [
      "86.93826818466187\n",
      " The image shows a mathematical equation:\n",
      "\n",
      "13 + 10 = 23\n",
      "\n",
      "To solve this equation, you simply add the two numbers together. Here's the step-by-step process:\n",
      "\n",
      "1. Identify the numbers: 13 and 10\n",
      "2. Add the numbers: 13 + 10\n",
      "3. Calculate the sum: 13 + 10 = 23\n",
      "\n",
      "The answer to the equation is 23. \n"
     ]
    }
   ],
   "source": [
    "t1 = time.time()\n",
    "res = ollama.chat(\n",
    "\tmodel=\"llava:7b\",\n",
    "\tmessages=[\n",
    "\t\t{\n",
    "\t\t\t'role': 'user',\n",
    "\t\t\t'content': 'This image contains numbers and one mathematical operation symbol. Please, describe the equation in the image and every step along the way to solve it:',\n",
    "\t\t\t'images': ['./op1.png']\n",
    "\t\t}\n",
    "\t]\n",
    ")\n",
    "t2 = time.time()\n",
    "print(t2-t1)\n",
    "print(res['message']['content'])"
   ]
  },
  {
   "cell_type": "markdown",
   "id": "68923d27-a358-4449-8b36-ecb593a8c729",
   "metadata": {},
   "source": [
    "#### Image 2: Refine prompt"
   ]
  },
  {
   "cell_type": "code",
   "execution_count": 6,
   "id": "06ac2fb3-5c2f-459d-be0f-092ec6516a13",
   "metadata": {},
   "outputs": [
    {
     "name": "stdout",
     "output_type": "stream",
     "text": [
      "94.9474937915802\n",
      " The image shows a mathematical equation:\n",
      "\n",
      "3 + 4 - 5 = ?\n",
      "\n",
      "To solve this equation, follow these steps:\n",
      "\n",
      "1. Start by performing the arithmetic operations in order from left to right.\n",
      "2. First, subtract 5:\n",
      "   3 + 4 - 5\n",
      "   1 + 4 - 5\n",
      "\n",
      "3. Next, add 4 and then add 3:\n",
      "    7 + 1 = 8\n",
      "\n",
      "4. Finally, perform the addition of 3 to get the total result:\n",
      "     8 + 3 = 11\n",
      "\n",
      "So, the solution to the equation is 11. \n"
     ]
    }
   ],
   "source": [
    "t1 = time.time()\n",
    "res = ollama.chat(\n",
    "\tmodel=\"llava:7b\",\n",
    "\tmessages=[\n",
    "\t\t{\n",
    "\t\t\t'role': 'user',\n",
    "\t\t\t'content': 'This image contains numbers and one mathematical operation symbol. Please, describe the equation in the image and every step along the way to solve it:',\n",
    "\t\t\t'images': ['./op2.png']\n",
    "\t\t}\n",
    "\t]\n",
    ")\n",
    "t2 = time.time()\n",
    "print(t2-t1)\n",
    "print(res['message']['content'])"
   ]
  },
  {
   "cell_type": "markdown",
   "id": "91f4449b-1b82-427d-89c4-94c69ec5e536",
   "metadata": {},
   "source": [
    "#### Image 3: Refine prompt"
   ]
  },
  {
   "cell_type": "code",
   "execution_count": 7,
   "id": "3388492e-2d74-47e8-bf5d-f0453b067fda",
   "metadata": {},
   "outputs": [
    {
     "name": "stdout",
     "output_type": "stream",
     "text": [
      "104.65695810317993\n",
      " The image shows a mathematical problem with the equation \"56 x 14 =\". To solve this equation, you need to understand the order of operations and follow it correctly. Here is how you would solve it:\n",
      "\n",
      "Step 1: Order of Operations\n",
      "The standard order of operations, often remembered by the acronym PEMDAS (Parentheses, Exponents, Multiplication and Division (from left to right), Addition and Subtraction (from left to right)) applies here. According to this order, you should first calculate any multiplications and then add or subtract as needed.\n",
      "\n",
      "Step 2: Calculate the Product of 56 and 14\n",
      "Multiply the two numbers together:\n",
      "56 x 14 = 808\n",
      "\n",
      "So, according to the image, the solution to \"56 x 14 =\" is 808. \n"
     ]
    }
   ],
   "source": [
    "t1 = time.time()\n",
    "res = ollama.chat(\n",
    "\tmodel=\"llava:7b\",\n",
    "\tmessages=[\n",
    "\t\t{\n",
    "\t\t\t'role': 'user',\n",
    "\t\t\t'content': 'This image contains numbers and one mathematical operation symbol. Please, describe the equation in the image and every step along the way to solve it:',\n",
    "\t\t\t'images': ['./op3.png']\n",
    "\t\t}\n",
    "\t]\n",
    ")\n",
    "t2 = time.time()\n",
    "print(t2-t1)\n",
    "print(res['message']['content'])"
   ]
  },
  {
   "cell_type": "markdown",
   "id": "e9b6a095-18f7-4d10-84a3-6aa37c0c14e6",
   "metadata": {},
   "source": [
    "#### Last try: ask for just the answer"
   ]
  },
  {
   "cell_type": "code",
   "execution_count": 8,
   "id": "37616707-eec8-49d5-a0d1-5563295b7328",
   "metadata": {},
   "outputs": [
    {
     "name": "stdout",
     "output_type": "stream",
     "text": [
      "94.73917269706726\n",
      " To solve the equation in the image:\n",
      "\n",
      "1. First, we need to subtract 305 from both sides of the equation to isolate the number on the right side.\n",
      "2. Subtracting 305 from 425 gives us 119.\n",
      "3. So, the equation becomes 119 = 12 + 305 - 425.\n",
      "4. Simplifying further:\n",
      "   12 + 305 - 425 = 317 - 425 = -378.\n",
      "5. Therefore, the final result of the equation in the image is -378. \n"
     ]
    }
   ],
   "source": [
    "t1 = time.time()\n",
    "res = ollama.chat(\n",
    "\tmodel=\"llava:7b\",\n",
    "\tmessages=[\n",
    "\t\t{\n",
    "\t\t\t'role': 'user',\n",
    "\t\t\t'content': 'Solve the mathematical operation in the image. Provide only the final result',\n",
    "\t\t\t'images': ['./op1.png']\n",
    "\t\t}\n",
    "\t]\n",
    ")\n",
    "t2 = time.time()\n",
    "print(t2-t1)\n",
    "print(res['message']['content'])"
   ]
  },
  {
   "cell_type": "code",
   "execution_count": 9,
   "id": "3a688181-fbf5-4009-aaff-7ed576c036eb",
   "metadata": {},
   "outputs": [
    {
     "name": "stdout",
     "output_type": "stream",
     "text": [
      "73.98550653457642\n",
      " The image shows an arithmetic operation:\n",
      "\n",
      "3 + 4 = 7\n",
      "\n",
      "To find the final result, you add the two numbers:\n",
      "\n",
      "3 + 4 = 7\n",
      "\n",
      "So the final result is 7. \n"
     ]
    }
   ],
   "source": [
    "t1 = time.time()\n",
    "res = ollama.chat(\n",
    "\tmodel=\"llava:7b\",\n",
    "\tmessages=[\n",
    "\t\t{\n",
    "\t\t\t'role': 'user',\n",
    "\t\t\t'content': 'Solve the mathematical operation in the image. Provide only the final result',\n",
    "\t\t\t'images': ['./op2.png']\n",
    "\t\t}\n",
    "\t]\n",
    ")\n",
    "t2 = time.time()\n",
    "print(t2-t1)\n",
    "print(res['message']['content'])"
   ]
  },
  {
   "cell_type": "code",
   "execution_count": 10,
   "id": "4f01ebf7-f07a-489a-a141-301e4d2fb419",
   "metadata": {},
   "outputs": [
    {
     "name": "stdout",
     "output_type": "stream",
     "text": [
      "70.21431851387024\n",
      " The image shows a mathematical operation:\n",
      "\n",
      "56 x 14 = 808\n",
      "\n",
      "The final result of the multiplication is 808. \n"
     ]
    }
   ],
   "source": [
    "t1 = time.time()\n",
    "res = ollama.chat(\n",
    "\tmodel=\"llava:7b\",\n",
    "\tmessages=[\n",
    "\t\t{\n",
    "\t\t\t'role': 'user',\n",
    "\t\t\t'content': 'Solve the mathematical operation in the image. Provide only the final result',\n",
    "\t\t\t'images': ['./op3.png']\n",
    "\t\t}\n",
    "\t]\n",
    ")\n",
    "t2 = time.time()\n",
    "print(t2-t1)\n",
    "print(res['message']['content'])"
   ]
  }
 ],
 "metadata": {
  "kernelspec": {
   "display_name": "Python 3 (ipykernel)",
   "language": "python",
   "name": "python3"
  },
  "language_info": {
   "codemirror_mode": {
    "name": "ipython",
    "version": 3
   },
   "file_extension": ".py",
   "mimetype": "text/x-python",
   "name": "python",
   "nbconvert_exporter": "python",
   "pygments_lexer": "ipython3",
   "version": "3.10.4"
  }
 },
 "nbformat": 4,
 "nbformat_minor": 5
}
