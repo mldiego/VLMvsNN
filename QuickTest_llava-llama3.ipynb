{
 "cells": [
  {
   "cell_type": "markdown",
   "id": "7352ff85-f71d-4a2a-8bec-eb669ebad16b",
   "metadata": {},
   "source": [
    "## Do open source VLMs reason with math?"
   ]
  },
  {
   "cell_type": "code",
   "execution_count": 1,
   "id": "a45b460b-b443-4d6a-92eb-3be26f6b33f7",
   "metadata": {},
   "outputs": [],
   "source": [
    "import ollama\n",
    "import time\n",
    "model = \"llava-llama3\""
   ]
  },
  {
   "cell_type": "markdown",
   "id": "034243a0-2bd9-49bd-91ba-ca9102617850",
   "metadata": {},
   "source": [
    "#### Image 1:     12 + 335 = 347"
   ]
  },
  {
   "cell_type": "code",
   "execution_count": 2,
   "id": "300469e6-dbee-45c6-b30d-c745ceeffbe5",
   "metadata": {},
   "outputs": [
    {
     "name": "stdout",
     "output_type": "stream",
     "text": [
      "85.79982662200928\n",
      "The image contains a simple mathematical operation problem in the form of an equation. The equation is written as \"12 + - 385\", which can be interpreted as \"12 + (-385)\". To solve this equation, we first need to perform the addition of 12 and the negated value of 385, which results in \"12 + (-385) = 12 + (-360)\", since numbers have the same units when added. Further simplification is not possible here, as the result would be a negative number. Therefore, the solution to this equation is -360.\n"
     ]
    }
   ],
   "source": [
    "t1 = time.time()\n",
    "res = ollama.chat(\n",
    "\tmodel=model,\n",
    "\tmessages=[\n",
    "\t\t{\n",
    "\t\t\t'role': 'user',\n",
    "\t\t\t'content': 'Solve the mathematical operation in the image:',\n",
    "\t\t\t'images': ['./op1.png']\n",
    "\t\t}\n",
    "\t]\n",
    ")\n",
    "t2 = time.time()\n",
    "print(t2-t1)\n",
    "print(res['message']['content'])"
   ]
  },
  {
   "cell_type": "markdown",
   "id": "a4f383cc-9656-4053-8c52-a3cca217c620",
   "metadata": {},
   "source": [
    "#### Image 2:       3+14-25=-8 "
   ]
  },
  {
   "cell_type": "code",
   "execution_count": 3,
   "id": "20f28e33-db4f-451d-b348-900e9746c8bf",
   "metadata": {},
   "outputs": [
    {
     "name": "stdout",
     "output_type": "stream",
     "text": [
      "87.57433891296387\n",
      "The image presents a mathematical equation involving two variables and an operator. The variables are represented by the numbers \"3\" and \"+14\", while the operator is indicated by the symbol \"+\". In this case, we have \"3 + 14\", which when evaluated, results in the value \"25\". This number is displayed in a black text font against a white background.\n"
     ]
    }
   ],
   "source": [
    "t1 = time.time()\n",
    "res = ollama.chat(\n",
    "\tmodel=model,\n",
    "\tmessages=[\n",
    "\t\t{\n",
    "\t\t\t'role': 'user',\n",
    "\t\t\t'content': 'Solve the mathematical operation in the image:',\n",
    "\t\t\t'images': ['./op2.png']\n",
    "\t\t}\n",
    "\t]\n",
    ")\n",
    "t2 = time.time()\n",
    "print(t2-t1)\n",
    "print(res['message']['content'])"
   ]
  },
  {
   "cell_type": "markdown",
   "id": "ce3ef49c-513b-4036-b67f-e2cd4ea852c7",
   "metadata": {},
   "source": [
    "#### Image 3: 55 * 14 = 770"
   ]
  },
  {
   "cell_type": "code",
   "execution_count": 4,
   "id": "379c1844-c64d-4fe1-81fc-781712882a35",
   "metadata": {},
   "outputs": [
    {
     "name": "stdout",
     "output_type": "stream",
     "text": [
      "107.71477127075195\n",
      "The image presents a simple mathematical operation involving two numbers. The first number, written in black ink on the white background, is 56. Positioned directly below it is the second number, also written in black ink and in the same style of handwriting as the first number. This second number represents the value to which the first number should be multiplied. However, instead of a standard multiplication sign such as a dot or a star, there's an unusual symbol that could be interpreted as a \"cross\". The numbers are not accompanied by any other text or symbols, and there are no discernible actions taking place in the image.\n"
     ]
    }
   ],
   "source": [
    "t1 = time.time()\n",
    "res = ollama.chat(\n",
    "\tmodel=model,\n",
    "\tmessages=[\n",
    "\t\t{\n",
    "\t\t\t'role': 'user',\n",
    "\t\t\t'content': 'Solve the mathematical operation in the image:',\n",
    "\t\t\t'images': ['./op3.png']\n",
    "\t\t}\n",
    "\t]\n",
    ")\n",
    "t2 = time.time()\n",
    "print(t2-t1)\n",
    "print(res['message']['content'])"
   ]
  },
  {
   "cell_type": "markdown",
   "id": "46be8ce8-760d-487a-a80a-e3d1a7b363f7",
   "metadata": {},
   "source": [
    "#### Image 1: Refine prompt"
   ]
  },
  {
   "cell_type": "code",
   "execution_count": 5,
   "id": "69eddbf7-4093-47be-a633-8c3ce2326441",
   "metadata": {},
   "outputs": [
    {
     "name": "stdout",
     "output_type": "stream",
     "text": [
      "100.77338314056396\n",
      "The image presents a mathematical equation that reads \"12 + 12\". To solve this equation, we can use the rule of addition to combine both numbers. The result of adding two identical numbers is simply double the number, which in this case would be \"24\". Therefore, the solution to the equation \"12 + 12\" is \"24\".\n"
     ]
    }
   ],
   "source": [
    "t1 = time.time()\n",
    "res = ollama.chat(\n",
    "\tmodel=model,\n",
    "\tmessages=[\n",
    "\t\t{\n",
    "\t\t\t'role': 'user',\n",
    "\t\t\t'content': 'This image contains numbers and one mathematical operation symbol. Please, describe the equation in the image and every step along the way to solve it:',\n",
    "\t\t\t'images': ['./op1.png']\n",
    "\t\t}\n",
    "\t]\n",
    ")\n",
    "t2 = time.time()\n",
    "print(t2-t1)\n",
    "print(res['message']['content'])"
   ]
  },
  {
   "cell_type": "markdown",
   "id": "68923d27-a358-4449-8b36-ecb593a8c729",
   "metadata": {},
   "source": [
    "#### Image 2: Refine prompt"
   ]
  },
  {
   "cell_type": "code",
   "execution_count": 6,
   "id": "06ac2fb3-5c2f-459d-be0f-092ec6516a13",
   "metadata": {},
   "outputs": [
    {
     "name": "stdout",
     "output_type": "stream",
     "text": [
      "101.79600930213928\n",
      "The image presents a mathematical problem involving two numbers and one mathematical operation symbol. The equation is written as \"3 + 14 - 25\". To solve this equation, we need to perform the three operations in sequence from left to right.\n",
      "\n",
      "1. Start with the first number: 3\n",
      "2. Add 14 to it: 3 + 14 = 17\n",
      "3. Subtract 25 from 17: 17 - 25 = -8\n",
      "\n",
      "Therefore, the solution of the equation \"3 + 14 - 25\" is -8.\n"
     ]
    }
   ],
   "source": [
    "t1 = time.time()\n",
    "res = ollama.chat(\n",
    "\tmodel=model,\n",
    "\tmessages=[\n",
    "\t\t{\n",
    "\t\t\t'role': 'user',\n",
    "\t\t\t'content': 'This image contains numbers and one mathematical operation symbol. Please, describe the equation in the image and every step along the way to solve it:',\n",
    "\t\t\t'images': ['./op2.png']\n",
    "\t\t}\n",
    "\t]\n",
    ")\n",
    "t2 = time.time()\n",
    "print(t2-t1)\n",
    "print(res['message']['content'])"
   ]
  },
  {
   "cell_type": "markdown",
   "id": "91f4449b-1b82-427d-89c4-94c69ec5e536",
   "metadata": {},
   "source": [
    "#### Image 3: Refine prompt"
   ]
  },
  {
   "cell_type": "code",
   "execution_count": 7,
   "id": "3388492e-2d74-47e8-bf5d-f0453b067fda",
   "metadata": {},
   "outputs": [
    {
     "name": "stdout",
     "output_type": "stream",
     "text": [
      "93.19514465332031\n",
      "The image presents a simple equation and its solution. The equation is written as \"56 x 14\". To solve this equation, we need to multiply the two numbers together.\n",
      "\n",
      "To do this, we can first write the equation using conventional mathematical notation: 56 × 14 = ?\n",
      "\n",
      "Next, we perform the multiplication:\n",
      "56 × 14 = 784\n",
      "\n",
      "So, the solution of the equation is 784.\n"
     ]
    }
   ],
   "source": [
    "t1 = time.time()\n",
    "res = ollama.chat(\n",
    "\tmodel=model,\n",
    "\tmessages=[\n",
    "\t\t{\n",
    "\t\t\t'role': 'user',\n",
    "\t\t\t'content': 'This image contains numbers and one mathematical operation symbol. Please, describe the equation in the image and every step along the way to solve it:',\n",
    "\t\t\t'images': ['./op3.png']\n",
    "\t\t}\n",
    "\t]\n",
    ")\n",
    "t2 = time.time()\n",
    "print(t2-t1)\n",
    "print(res['message']['content'])"
   ]
  },
  {
   "cell_type": "markdown",
   "id": "e9b6a095-18f7-4d10-84a3-6aa37c0c14e6",
   "metadata": {},
   "source": [
    "#### Last try: ask for just the answer"
   ]
  },
  {
   "cell_type": "code",
   "execution_count": 8,
   "id": "37616707-eec8-49d5-a0d1-5563295b7328",
   "metadata": {},
   "outputs": [
    {
     "name": "stdout",
     "output_type": "stream",
     "text": [
      "73.52021765708923\n",
      "12 + -345\n"
     ]
    }
   ],
   "source": [
    "t1 = time.time()\n",
    "res = ollama.chat(\n",
    "\tmodel=model,\n",
    "\tmessages=[\n",
    "\t\t{\n",
    "\t\t\t'role': 'user',\n",
    "\t\t\t'content': 'Solve the mathematical operation in the image. Provide only the final result',\n",
    "\t\t\t'images': ['./op1.png']\n",
    "\t\t}\n",
    "\t]\n",
    ")\n",
    "t2 = time.time()\n",
    "print(t2-t1)\n",
    "print(res['message']['content'])"
   ]
  },
  {
   "cell_type": "code",
   "execution_count": 9,
   "id": "3a688181-fbf5-4009-aaff-7ed576c036eb",
   "metadata": {},
   "outputs": [
    {
     "name": "stdout",
     "output_type": "stream",
     "text": [
      "72.3971893787384\n",
      "3\n"
     ]
    }
   ],
   "source": [
    "t1 = time.time()\n",
    "res = ollama.chat(\n",
    "\tmodel=model,\n",
    "\tmessages=[\n",
    "\t\t{\n",
    "\t\t\t'role': 'user',\n",
    "\t\t\t'content': 'Solve the mathematical operation in the image. Provide only the final result',\n",
    "\t\t\t'images': ['./op2.png']\n",
    "\t\t}\n",
    "\t]\n",
    ")\n",
    "t2 = time.time()\n",
    "print(t2-t1)\n",
    "print(res['message']['content'])"
   ]
  },
  {
   "cell_type": "code",
   "execution_count": 10,
   "id": "4f01ebf7-f07a-489a-a141-301e4d2fb419",
   "metadata": {},
   "outputs": [
    {
     "name": "stdout",
     "output_type": "stream",
     "text": [
      "72.87486147880554\n",
      "24\n"
     ]
    }
   ],
   "source": [
    "t1 = time.time()\n",
    "res = ollama.chat(\n",
    "\tmodel=model,\n",
    "\tmessages=[\n",
    "\t\t{\n",
    "\t\t\t'role': 'user',\n",
    "\t\t\t'content': 'Solve the mathematical operation in the image. Provide only the final result',\n",
    "\t\t\t'images': ['./op3.png']\n",
    "\t\t}\n",
    "\t]\n",
    ")\n",
    "t2 = time.time()\n",
    "print(t2-t1)\n",
    "print(res['message']['content'])"
   ]
  },
  {
   "cell_type": "code",
   "execution_count": null,
   "id": "0b99ddfc-4e49-45ab-abde-427693355b08",
   "metadata": {},
   "outputs": [],
   "source": []
  }
 ],
 "metadata": {
  "kernelspec": {
   "display_name": "Python 3 (ipykernel)",
   "language": "python",
   "name": "python3"
  },
  "language_info": {
   "codemirror_mode": {
    "name": "ipython",
    "version": 3
   },
   "file_extension": ".py",
   "mimetype": "text/x-python",
   "name": "python",
   "nbconvert_exporter": "python",
   "pygments_lexer": "ipython3",
   "version": "3.10.4"
  }
 },
 "nbformat": 4,
 "nbformat_minor": 5
}
