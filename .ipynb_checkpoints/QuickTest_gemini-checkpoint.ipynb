{
 "cells": [
  {
   "cell_type": "markdown",
   "id": "7352ff85-f71d-4a2a-8bec-eb669ebad16b",
   "metadata": {},
   "source": [
    "## Do open source VLMs reason with math?"
   ]
  },
  {
   "cell_type": "code",
   "execution_count": 1,
   "id": "a45b460b-b443-4d6a-92eb-3be26f6b33f7",
   "metadata": {},
   "outputs": [
    {
     "name": "stderr",
     "output_type": "stream",
     "text": [
      "/home/dieman95/anaconda3/envs/gemini/lib/python3.10/site-packages/tqdm/auto.py:21: TqdmWarning: IProgress not found. Please update jupyter and ipywidgets. See https://ipywidgets.readthedocs.io/en/stable/user_install.html\n",
      "  from .autonotebook import tqdm as notebook_tqdm\n"
     ]
    }
   ],
   "source": [
    "# import httpx\n",
    "import os\n",
    "# import base64\n",
    "import PIL.Image\n",
    "import time\n",
    "import google.generativeai as genai"
   ]
  },
  {
   "cell_type": "markdown",
   "id": "e69f7262-7220-4bb1-a324-7051610bafa1",
   "metadata": {},
   "source": [
    "### Test variables"
   ]
  },
  {
   "cell_type": "code",
   "execution_count": 2,
   "id": "395dd07b-1e68-4273-a28e-1a14a1035fdb",
   "metadata": {},
   "outputs": [],
   "source": [
    "## Configure model to run\n",
    "api_key = os.environ.get(\"GOOGLE_API_KEY\")\n",
    "genai.configure(api_key=api_key)\n",
    "\n",
    "## Select model\n",
    "model_name = \"gemini-1.5-flash\"\n",
    "#model_name = \"gemini-1.5-pro\"\n",
    "#model_name = \"gemini-2.0-flash-exp\"\n",
    "model = genai.GenerativeModel(model_name = model_name)\n",
    "\n",
    "## Choose images\n",
    "image_1_path = \"./op1.png\"  # (12+335)=347\n",
    "image_2_path = \"./op2.png\"  # (3+14-25)=-8\n",
    "image_3_path = \"./op3.png\"  # (55*14)=770\n",
    "\n",
    "## Load images\n",
    "image_1 = PIL.Image.open(image_1_path)\n",
    "image_2 = PIL.Image.open(image_2_path)\n",
    "image_3 = PIL.Image.open(image_3_path)\n",
    "\n",
    "## Select prompts\n",
    "prompt_1 = \"Solve the mathematical operation in the image\"\n",
    "prompt_2 = \"This image contains numbers and one mathematical operation symbol. Please, describe the equation in the image and every step along the way to solve it.\"\n",
    "prompt_3 = \"Solve the mathematical operation in the image. Provide only the final result.\""
   ]
  },
  {
   "cell_type": "markdown",
   "id": "034243a0-2bd9-49bd-91ba-ca9102617850",
   "metadata": {},
   "source": [
    "#### Image 1:     12 + 335 = 347"
   ]
  },
  {
   "cell_type": "code",
   "execution_count": 3,
   "id": "300469e6-dbee-45c6-b30d-c745ceeffbe5",
   "metadata": {},
   "outputs": [
    {
     "name": "stdout",
     "output_type": "stream",
     "text": [
      "1.3748745918273926\n",
      "Here's the solution:\n",
      "\n",
      "12 + 335 = 347\n"
     ]
    }
   ],
   "source": [
    "t1 = time.time()\n",
    "response = model.generate_content([prompt_1, image_1])\n",
    "t2 = time.time()\n",
    "print(t2-t1)\n",
    "print(response.text)"
   ]
  },
  {
   "cell_type": "markdown",
   "id": "a4f383cc-9656-4053-8c52-a3cca217c620",
   "metadata": {},
   "source": [
    "#### Image 2:       3+14-25=-8 "
   ]
  },
  {
   "cell_type": "code",
   "execution_count": 4,
   "id": "20f28e33-db4f-451d-b348-900e9746c8bf",
   "metadata": {},
   "outputs": [
    {
     "name": "stdout",
     "output_type": "stream",
     "text": [
      "1.3265769481658936\n",
      "Here's how to solve the equation 3 + 14 - 25:\n",
      "\n",
      "1. **Addition:** 3 + 14 = 17\n",
      "\n",
      "2. **Subtraction:** 17 - 25 = -8\n",
      "\n",
      "Therefore, the answer is $\\boxed{-8}$\n"
     ]
    }
   ],
   "source": [
    "t1 = time.time()\n",
    "response = model.generate_content([prompt_1, image_2])\n",
    "t2 = time.time()\n",
    "print(t2-t1)\n",
    "print(response.text)"
   ]
  },
  {
   "cell_type": "markdown",
   "id": "ce3ef49c-513b-4036-b67f-e2cd4ea852c7",
   "metadata": {},
   "source": [
    "#### Image 3: 55 * 14 = 770"
   ]
  },
  {
   "cell_type": "code",
   "execution_count": 5,
   "id": "379c1844-c64d-4fe1-81fc-781712882a35",
   "metadata": {},
   "outputs": [
    {
     "name": "stdout",
     "output_type": "stream",
     "text": [
      "0.8219888210296631\n",
      "55 x 14 = 770\n"
     ]
    }
   ],
   "source": [
    "t1 = time.time()\n",
    "response = model.generate_content([prompt_1, image_3])\n",
    "t2 = time.time()\n",
    "print(t2-t1)\n",
    "print(response.text)"
   ]
  },
  {
   "cell_type": "markdown",
   "id": "46be8ce8-760d-487a-a80a-e3d1a7b363f7",
   "metadata": {},
   "source": [
    "#### Image 1: Refine prompt"
   ]
  },
  {
   "cell_type": "code",
   "execution_count": 6,
   "id": "69eddbf7-4093-47be-a633-8c3ce2326441",
   "metadata": {},
   "outputs": [
    {
     "name": "stdout",
     "output_type": "stream",
     "text": [
      "3.4331560134887695\n",
      "The image shows the equation 12 + 335.  Here's how to solve it:\n",
      "\n",
      "**1. Add the ones column:** 2 + 5 = 7\n",
      "\n",
      "**2. Add the tens column:** 1 + 3 = 4\n",
      "\n",
      "**3. Add the hundreds column:**  3 (there's only a 3 in the hundreds column)\n",
      "\n",
      "**4. Combine the results:** The sum of the ones, tens, and hundreds columns gives us the final answer.\n",
      "\n",
      "Therefore, 12 + 335 = 347\n"
     ]
    }
   ],
   "source": [
    "t1 = time.time()\n",
    "response = model.generate_content([prompt_2, image_1])\n",
    "t2 = time.time()\n",
    "print(t2-t1)\n",
    "print(response.text)"
   ]
  },
  {
   "cell_type": "markdown",
   "id": "68923d27-a358-4449-8b36-ecb593a8c729",
   "metadata": {},
   "source": [
    "#### Image 2: Refine prompt"
   ]
  },
  {
   "cell_type": "code",
   "execution_count": 7,
   "id": "06ac2fb3-5c2f-459d-be0f-092ec6516a13",
   "metadata": {},
   "outputs": [
    {
     "name": "stdout",
     "output_type": "stream",
     "text": [
      "1.396599531173706\n",
      "The image contains the equation 3 + 14 - 25.  Here's how to solve it step-by-step:\n",
      "\n",
      "1. **Addition:** First, perform the addition operation: 3 + 14 = 17\n",
      "\n",
      "2. **Subtraction:** Next, perform the subtraction operation: 17 - 25 = -8\n",
      "\n",
      "Therefore, the solution to the equation 3 + 14 - 25 is $\\boxed{-8}$\n"
     ]
    }
   ],
   "source": [
    "t1 = time.time()\n",
    "response = model.generate_content([prompt_2, image_2])\n",
    "t2 = time.time()\n",
    "print(t2-t1)\n",
    "print(response.text)"
   ]
  },
  {
   "cell_type": "markdown",
   "id": "91f4449b-1b82-427d-89c4-94c69ec5e536",
   "metadata": {},
   "source": [
    "#### Image 3: Refine prompt"
   ]
  },
  {
   "cell_type": "code",
   "execution_count": 8,
   "id": "3388492e-2d74-47e8-bf5d-f0453b067fda",
   "metadata": {},
   "outputs": [
    {
     "name": "stdout",
     "output_type": "stream",
     "text": [
      "4.252299785614014\n",
      "The image shows the equation 55 x 14.  Here's how to solve it:\n",
      "\n",
      "**Method 1: Standard Multiplication**\n",
      "\n",
      "1. **Multiply 55 by 4 (the ones digit of 14):**\n",
      "   55 x 4 = 220. Write down 220.\n",
      "\n",
      "2. **Multiply 55 by 10 (the tens digit of 14):**\n",
      "   55 x 10 = 550.  Write this below the 220, but shifted one place to the left (because it represents hundreds and thousands).\n",
      "\n",
      "3. **Add the two results:**\n",
      "   220\n",
      "+ 550\n",
      "-------\n",
      "  770\n",
      "\n",
      "Therefore, 55 x 14 = 770\n",
      "\n",
      "**Method 2: Distributive Property**\n",
      "\n",
      "This method breaks down the multiplication into smaller, easier steps:\n",
      "\n",
      "1. **Rewrite 14 as 10 + 4:**  The equation becomes 55 x (10 + 4)\n",
      "\n",
      "2. **Distribute the 55:** This means multiply 55 by both 10 and 4 separately: (55 x 10) + (55 x 4)\n",
      "\n",
      "3. **Calculate each multiplication:**\n",
      "   55 x 10 = 550\n",
      "   55 x 4 = 220\n",
      "\n",
      "4. **Add the results:** 550 + 220 = 770\n",
      "\n",
      "Therefore, 55 x 14 = 770  using the distributive property.\n"
     ]
    }
   ],
   "source": [
    "t1 = time.time()\n",
    "response = model.generate_content([prompt_2, image_3])\n",
    "t2 = time.time()\n",
    "print(t2-t1)\n",
    "print(response.text)"
   ]
  },
  {
   "cell_type": "markdown",
   "id": "e9b6a095-18f7-4d10-84a3-6aa37c0c14e6",
   "metadata": {},
   "source": [
    "#### Last try: ask for just the answer"
   ]
  },
  {
   "cell_type": "code",
   "execution_count": 9,
   "id": "37616707-eec8-49d5-a0d1-5563295b7328",
   "metadata": {},
   "outputs": [
    {
     "name": "stdout",
     "output_type": "stream",
     "text": [
      "1.94980788230896\n",
      "347\n"
     ]
    }
   ],
   "source": [
    "t1 = time.time()\n",
    "response = model.generate_content([prompt_3, image_1])\n",
    "t2 = time.time()\n",
    "print(t2-t1)\n",
    "print(response.text)"
   ]
  },
  {
   "cell_type": "code",
   "execution_count": 10,
   "id": "3a688181-fbf5-4009-aaff-7ed576c036eb",
   "metadata": {},
   "outputs": [
    {
     "name": "stdout",
     "output_type": "stream",
     "text": [
      "0.6368255615234375\n",
      "-8\n"
     ]
    }
   ],
   "source": [
    "t1 = time.time()\n",
    "response = model.generate_content([prompt_3, image_2])\n",
    "t2 = time.time()\n",
    "print(t2-t1)\n",
    "print(response.text)"
   ]
  },
  {
   "cell_type": "code",
   "execution_count": 12,
   "id": "4f01ebf7-f07a-489a-a141-301e4d2fb419",
   "metadata": {},
   "outputs": [
    {
     "name": "stdout",
     "output_type": "stream",
     "text": [
      "4.519131898880005\n",
      "220\n"
     ]
    }
   ],
   "source": [
    "t1 = time.time()\n",
    "response = model.generate_content([prompt_3, image_3])\n",
    "t2 = time.time()\n",
    "print(t2-t1)\n",
    "print(response.text)"
   ]
  },
  {
   "cell_type": "code",
   "execution_count": null,
   "id": "0b99ddfc-4e49-45ab-abde-427693355b08",
   "metadata": {},
   "outputs": [],
   "source": []
  }
 ],
 "metadata": {
  "kernelspec": {
   "display_name": "Python 3 (ipykernel)",
   "language": "python",
   "name": "python3"
  },
  "language_info": {
   "codemirror_mode": {
    "name": "ipython",
    "version": 3
   },
   "file_extension": ".py",
   "mimetype": "text/x-python",
   "name": "python",
   "nbconvert_exporter": "python",
   "pygments_lexer": "ipython3",
   "version": "3.10.4"
  }
 },
 "nbformat": 4,
 "nbformat_minor": 5
}
